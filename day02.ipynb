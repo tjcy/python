{
 "cells": [
  {
   "cell_type": "code",
   "execution_count": 2,
   "metadata": {},
   "outputs": [],
   "source": [
    "import os\n",
    "import numpy as np\n",
    "path = 'data_set/handwriting/testDigits'\n",
    "        "
   ]
  },
  {
   "cell_type": "code",
   "execution_count": 4,
   "metadata": {},
   "outputs": [
    {
     "name": "stdout",
     "output_type": "stream",
     "text": [
      "(946, 1024)\n"
     ]
    }
   ],
   "source": [
    "a = os.listdir(path)\n",
    "Y = []\n",
    "X = []\n",
    "for i in a:\n",
    "    cache_x = []\n",
    "    Y.append(i.split('_')[0])\n",
    "    PATH = path + '/' + i\n",
    "    with open (PATH,'r') as f:\n",
    "        lines = f.readlines()\n",
    "        for j in lines:\n",
    "             strip_j = j.strip('\\n')  \n",
    "             for k in strip_j:\n",
    "                cache_x.append(k)\n",
    "        X.append(cache_x)\n",
    "X = np.array(X)\n",
    "print(X.shape)"
   ]
  },
  {
   "cell_type": "code",
   "execution_count": null,
   "metadata": {},
   "outputs": [],
   "source": []
  }
 ],
 "metadata": {
  "kernelspec": {
   "display_name": "Python 3",
   "language": "python",
   "name": "python3"
  },
  "language_info": {
   "codemirror_mode": {
    "name": "ipython",
    "version": 3
   },
   "file_extension": ".py",
   "mimetype": "text/x-python",
   "name": "python",
   "nbconvert_exporter": "python",
   "pygments_lexer": "ipython3",
   "version": "3.6.4"
  }
 },
 "nbformat": 4,
 "nbformat_minor": 2
}
